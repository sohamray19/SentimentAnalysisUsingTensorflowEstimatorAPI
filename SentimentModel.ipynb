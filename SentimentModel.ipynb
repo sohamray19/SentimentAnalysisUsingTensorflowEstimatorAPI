{
 "cells": [
  {
   "cell_type": "code",
   "execution_count": 76,
   "metadata": {},
   "outputs": [
    {
     "name": "stdout",
     "output_type": "stream",
     "text": [
      "1.9.0\n"
     ]
    }
   ],
   "source": [
    "import numpy as np\n",
    "import pandas as pd\n",
    "\n",
    "import tensorflow as tf\n",
    "import tensorflow_hub as hub\n",
    "\n",
    "# print(tf.__version__)"
   ]
  },
  {
   "cell_type": "markdown",
   "metadata": {},
   "source": [
    "Download Dataset from http://thinknook.com/twitter-sentiment-analysis-training-corpus-dataset-2012-09-22/"
   ]
  },
  {
   "cell_type": "code",
   "execution_count": 68,
   "metadata": {},
   "outputs": [
    {
     "name": "stderr",
     "output_type": "stream",
     "text": [
      "b'Skipping line 8836: expected 4 fields, saw 5\\n'\n",
      "b'Skipping line 535882: expected 4 fields, saw 7\\n'\n"
     ]
    }
   ],
   "source": [
    "dataset = pd.read_csv('/home/exacon02/Desktop/XSent/Sentiment Analysis Dataset.csv',error_bad_lines = False)\n",
    "dataset = dataset[[\"SentimentText\",\"Sentiment\"]]\n",
    "tweets=dataset['SentimentText']\n",
    "sent=dataset['Sentiment']\n",
    "\n",
    "train_size = int(len(tweets) * .8)\n",
    "\n",
    "train_tweets = tweets[:train_size]\n",
    "train_sent = sent[:train_size]\n",
    "\n",
    "test_tweets = tweets[train_size:]\n",
    "test_sent = sent[train_size:]"
   ]
  },
  {
   "cell_type": "code",
   "execution_count": 69,
   "metadata": {},
   "outputs": [],
   "source": [
    "tweet_embeddings = hub.text_embedding_column(\n",
    "  \"tweets\", \n",
    "  module_spec=\"https://tfhub.dev/google/universal-sentence-encoder/2\"\n",
    ")"
   ]
  },
  {
   "cell_type": "code",
   "execution_count": 71,
   "metadata": {},
   "outputs": [],
   "source": [
    "estimator = tf.estimator.DNNClassifier(\n",
    "hidden_units = [128, 24],\n",
    "feature_columns = [tweet_embeddings],\n",
    "n_classes = 2,\n",
    "optimizer = tf.train.AdamOptimizer(learning_rate=0.003),\n",
    "model_dir='/path/to/model/'\n",
    "#Path to Directory Where Model is to be Stored\n",
    ")"
   ]
  },
  {
   "cell_type": "code",
   "execution_count": 72,
   "metadata": {},
   "outputs": [],
   "source": [
    "features = {\n",
    "  \"tweets\": np.array(train_tweets)\n",
    "}\n",
    "labels = np.array(train_sent)\n",
    "\n",
    "train_input_fn = tf.estimator.inputs.numpy_input_fn(\n",
    "    features, \n",
    "    labels, \n",
    "    shuffle=True, \n",
    "    batch_size=512, \n",
    "    num_epochs=10\n",
    ")"
   ]
  },
  {
   "cell_type": "code",
   "execution_count": 73,
   "metadata": {},
   "outputs": [
    {
     "data": {
      "text/plain": [
       "<tensorflow.python.estimator.canned.dnn.DNNClassifier at 0x7f018672fef0>"
      ]
     },
     "execution_count": 73,
     "metadata": {},
     "output_type": "execute_result"
    }
   ],
   "source": [
    "tf.logging.set_verbosity(tf.logging.ERROR)\n",
    "estimator.train(input_fn=train_input_fn)"
   ]
  },
  {
   "cell_type": "code",
   "execution_count": 74,
   "metadata": {},
   "outputs": [
    {
     "data": {
      "text/plain": [
       "{'accuracy': 0.8089528,\n",
       " 'accuracy_baseline': 0.55986416,\n",
       " 'auc': 0.8894448,\n",
       " 'auc_precision_recall': 0.8673041,\n",
       " 'average_loss': 0.4150449,\n",
       " 'label/mean': 0.4401358,\n",
       " 'loss': 53.116833,\n",
       " 'precision': 0.78977853,\n",
       " 'prediction/mean': 0.44788742,\n",
       " 'recall': 0.7712164,\n",
       " 'global_step': 24666}"
      ]
     },
     "execution_count": 74,
     "metadata": {},
     "output_type": "execute_result"
    }
   ],
   "source": [
    "eval_input_fn = tf.estimator.inputs.numpy_input_fn({\"tweets\": np.array(test_tweets)}, np.array(test_sent), shuffle=False)\n",
    "\n",
    "estimator.evaluate(input_fn=eval_input_fn)"
   ]
  },
  {
   "cell_type": "code",
   "execution_count": 75,
   "metadata": {},
   "outputs": [
    {
     "name": "stdout",
     "output_type": "stream",
     "text": [
      "Input a sentence to be evaluated, or Enter to quit: He is happy\n",
      "Positive sentiment; 98.29110503196716 % confidence\n",
      "Input a sentence to be evaluated, or Enter to quit: He is sad\n",
      "Negative sentiment; 99.74668025970459 % confidence\n",
      "Input a sentence to be evaluated, or Enter to quit: He is not happy\n",
      "Negative sentiment; 95.47165036201477 % confidence\n",
      "Input a sentence to be evaluated, or Enter to quit: He is extremely happy\n",
      "Positive sentiment; 95.55400609970093 % confidence\n",
      "Input a sentence to be evaluated, or Enter to quit: Get out of my house\\\n",
      "Negative sentiment; 79.34272289276123 % confidence\n",
      "Input a sentence to be evaluated, or Enter to quit: I love her\n",
      "Positive sentiment; 91.72520041465759 % confidence\n",
      "Input a sentence to be evaluated, or Enter to quit: I want to stab him\n",
      "Negative sentiment; 97.03577756881714 % confidence\n",
      "Input a sentence to be evaluated, or Enter to quit: I want to kill Soham\n",
      "Negative sentiment; 96.07805609703064 % confidence\n",
      "Input a sentence to be evaluated, or Enter to quit: To iterate is human, To recurse divine\n",
      "Positive sentiment; 96.96226716041565 % confidence\n",
      "Input a sentence to be evaluated, or Enter to quit: Apple's Products have been utterly disappointing\n",
      "Negative sentiment; 93.93688440322876 % confidence\n",
      "Input a sentence to be evaluated, or Enter to quit: Apple's Products have not been up to the mark\n",
      "Negative sentiment; 91.54669642448425 % confidence\n",
      "Input a sentence to be evaluated, or Enter to quit: Apple's Products haven't been up to the mark\n",
      "Negative sentiment; 91.89636707305908 % confidence\n",
      "Input a sentence to be evaluated, or Enter to quit: I would rather eat shit than eat your cooking\n",
      "Positive sentiment; 51.49364471435547 % confidence\n",
      "Input a sentence to be evaluated, or Enter to quit: I am feeling sick today\n",
      "Negative sentiment; 99.73449110984802 % confidence\n",
      "Input a sentence to be evaluated, or Enter to quit: As if life is rainbows and butterflies\n",
      "Positive sentiment; 77.11177468299866 % confidence\n",
      "Input a sentence to be evaluated, or Enter to quit: Life is about compromise\n",
      "Negative sentiment; 71.3835060596466 % confidence\n",
      "Input a sentence to be evaluated, or Enter to quit: My butt looks better than your face\n",
      "Positive sentiment; 55.167585611343384 % confidence\n",
      "Input a sentence to be evaluated, or Enter to quit: You better deliver, or i'll send your family to the gallows\n",
      "Positive sentiment; 83.2101821899414 % confidence\n",
      "Input a sentence to be evaluated, or Enter to quit: You better deliver, or i'll send your family to their deaths\n",
      "Positive sentiment; 71.8347430229187 % confidence\n",
      "Input a sentence to be evaluated, or Enter to quit: You Will never be as good as me\n",
      "Negative sentiment; 58.20683836936951 % confidence\n",
      "Input a sentence to be evaluated, or Enter to quit: He was never that bad\n",
      "Negative sentiment; 83.97849798202515 % confidence\n",
      "Input a sentence to be evaluated, or Enter to quit:  \n",
      "Positive sentiment; 56.19087815284729 % confidence\n",
      "Input a sentence to be evaluated, or Enter to quit: \n"
     ]
    }
   ],
   "source": [
    "while 1:\n",
    "    evalSentence =input('Input a sentence to be evaluated, or Enter to quit: ')\n",
    "\n",
    "    if len(evalSentence) == 0:\n",
    "        break\n",
    "\n",
    "        \n",
    "    Sentiment=[\"Negative\",\"Positive\"]\n",
    "    # Format your input for the neural net\n",
    "    evalSentence=[evalSentence]\n",
    "    predict_input_fn = tf.estimator.inputs.numpy_input_fn({\"tweets\": np.array(evalSentence)}, shuffle=False)\n",
    "    results = estimator.predict(predict_input_fn)   \n",
    "    for x in results:\n",
    "        pred=x['probabilities']\n",
    "        print(Sentiment[np.argmax(pred)],\"sentiment;\",pred[np.argmax(pred)] * 100,\"% confidence\")"
   ]
  }
 ],
 "metadata": {
  "kernelspec": {
   "display_name": "Python 3",
   "language": "python",
   "name": "python3"
  },
  "language_info": {
   "codemirror_mode": {
    "name": "ipython",
    "version": 3
   },
   "file_extension": ".py",
   "mimetype": "text/x-python",
   "name": "python",
   "nbconvert_exporter": "python",
   "pygments_lexer": "ipython3",
   "version": "3.6.5"
  }
 },
 "nbformat": 4,
 "nbformat_minor": 2
}
